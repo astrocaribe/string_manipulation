{
 "cells": [
  {
   "cell_type": "markdown",
   "metadata": {},
   "source": [
    "## String word-order reversal: Write a program using the language of your choice that reverses the order of words in a given phrase, i.e. given \"son I am able she said though you scare me watch said I” output “I said watch me scare you though said she able am I son”."
   ]
  },
  {
   "cell_type": "code",
   "execution_count": null,
   "metadata": {
    "collapsed": false
   },
   "outputs": [],
   "source": []
  },
  {
   "cell_type": "code",
   "execution_count": 1,
   "metadata": {
    "collapsed": false
   },
   "outputs": [
    {
     "name": "stdout",
     "output_type": "stream",
     "text": [
      "Input phrase:     son I am able she said though you scare me watch said I\n",
      "Reversed phrase:  I said watch me scare you though said she able am I son\n"
     ]
    }
   ],
   "source": [
    "# Store string phrase\n",
    "phrase = \"son I am able she said though you scare me watch said I\"\n",
    "\n",
    "# Split phrase by spaces\n",
    "words = phrase.split(' ')\n",
    "\n",
    "# Reverse word order, and join resulting array into a string\n",
    "# phrase (reversed) with spaces inserted\n",
    "reversed_phrase = ' '.join(words[::-1])\n",
    "\n",
    "print 'Input phrase:    ', phrase\n",
    "print 'Reversed phrase: ', reversed_phrase"
   ]
  },
  {
   "cell_type": "code",
   "execution_count": null,
   "metadata": {
    "collapsed": false
   },
   "outputs": [],
   "source": []
  },
  {
   "cell_type": "code",
   "execution_count": null,
   "metadata": {
    "collapsed": false
   },
   "outputs": [],
   "source": []
  },
  {
   "cell_type": "markdown",
   "metadata": {},
   "source": [
    "## Pig Latin translator: write a simple program using the language of your choice that given an English sentence will output a pig latin translation of that sentence."
   ]
  },
  {
   "cell_type": "code",
   "execution_count": 2,
   "metadata": {
    "collapsed": false
   },
   "outputs": [],
   "source": [
    "import re"
   ]
  },
  {
   "cell_type": "code",
   "execution_count": 3,
   "metadata": {
    "collapsed": false
   },
   "outputs": [],
   "source": [
    "# Starting with a vowel\n",
    "def Rule1( word ):\n",
    "    root_word, punctuation = split_punctuation( word )\n",
    "    \n",
    "    translated_word = root_word + 'yay' + punctuation\n",
    "    \n",
    "    return translated_word\n",
    "\n",
    "\n",
    "# Starting with a consonant\n",
    "def Rule2( word, index ):\n",
    "    root_word, punctuation = split_punctuation( word )\n",
    "    \n",
    "    begin_split_word = root_word[:index]\n",
    "    end_split_word = root_word[index:]\n",
    "    \n",
    "    translated_word = end_split_word + begin_split_word + 'ay' + punctuation\n",
    "    \n",
    "    return translated_word\n",
    "\n",
    "\n",
    "# Split punctuation, if avaiable\n",
    "def split_punctuation( word ):\n",
    "    \n",
    "    unpunctuated_word = re.findall(r\"[\\w']+\", word)\n",
    "    \n",
    "    if word != unpunctuated_word[0]:\n",
    "        return unpunctuated_word[0], word[-1]\n",
    "    else:\n",
    "        return unpunctuated_word[0], ''"
   ]
  },
  {
   "cell_type": "code",
   "execution_count": 4,
   "metadata": {
    "collapsed": false
   },
   "outputs": [],
   "source": [
    "# Input sentence\n",
    "input_sentence = \"There are some that say mortals are fragile; experts, however, can be gods in their own right.\"\n",
    "words = input_sentence.split()"
   ]
  },
  {
   "cell_type": "code",
   "execution_count": null,
   "metadata": {
    "collapsed": false
   },
   "outputs": [],
   "source": []
  },
  {
   "cell_type": "code",
   "execution_count": null,
   "metadata": {
    "collapsed": false
   },
   "outputs": [],
   "source": []
  },
  {
   "cell_type": "code",
   "execution_count": 5,
   "metadata": {
    "collapsed": false
   },
   "outputs": [],
   "source": [
    "vowels = 'aeiou'\n",
    "translated_sentence = []\n",
    "\n",
    "for ii in range(0, len(words)):\n",
    "    if words[ii][0] in vowels:\n",
    "        translated_word = Rule1(words[ii])\n",
    "    else:\n",
    "        vowel_index = [w in vowels for w in words[ii]].index(True)\n",
    "        translated_word = Rule2(words[ii], vowel_index)\n",
    "        \n",
    "    translated_sentence.append(translated_word)"
   ]
  },
  {
   "cell_type": "code",
   "execution_count": 6,
   "metadata": {
    "collapsed": false
   },
   "outputs": [
    {
     "data": {
      "text/plain": [
       "'Erethay areyay omesay atthay aysay ortalsmay areyay agilefray; expertsyay, oweverhay, ancay ebay odsgay inyay eirthay ownyay ightray.'"
      ]
     },
     "execution_count": 6,
     "metadata": {},
     "output_type": "execute_result"
    }
   ],
   "source": [
    "# Capitalize first letter in first word, removing other cases\n",
    "translated_sentence[0] = translated_sentence[0].lower().capitalize()\n",
    "\n",
    "# Join word array into a sentence\n",
    "' '.join(translated_sentence)"
   ]
  },
  {
   "cell_type": "code",
   "execution_count": 256,
   "metadata": {
    "collapsed": false
   },
   "outputs": [],
   "source": []
  },
  {
   "cell_type": "code",
   "execution_count": 59,
   "metadata": {
    "collapsed": false
   },
   "outputs": [],
   "source": []
  },
  {
   "cell_type": "code",
   "execution_count": 252,
   "metadata": {
    "collapsed": false
   },
   "outputs": [],
   "source": []
  },
  {
   "cell_type": "code",
   "execution_count": 252,
   "metadata": {
    "collapsed": false
   },
   "outputs": [],
   "source": []
  },
  {
   "cell_type": "code",
   "execution_count": 59,
   "metadata": {
    "collapsed": false
   },
   "outputs": [],
   "source": []
  },
  {
   "cell_type": "code",
   "execution_count": 252,
   "metadata": {
    "collapsed": false
   },
   "outputs": [],
   "source": []
  },
  {
   "cell_type": "code",
   "execution_count": 252,
   "metadata": {
    "collapsed": false
   },
   "outputs": [],
   "source": []
  },
  {
   "cell_type": "code",
   "execution_count": 252,
   "metadata": {
    "collapsed": false
   },
   "outputs": [],
   "source": []
  },
  {
   "cell_type": "code",
   "execution_count": null,
   "metadata": {
    "collapsed": false
   },
   "outputs": [],
   "source": []
  }
 ],
 "metadata": {
  "kernelspec": {
   "display_name": "Python 2",
   "language": "python",
   "name": "python2"
  },
  "language_info": {
   "codemirror_mode": {
    "name": "ipython",
    "version": 2
   },
   "file_extension": ".py",
   "mimetype": "text/x-python",
   "name": "python",
   "nbconvert_exporter": "python",
   "pygments_lexer": "ipython2",
   "version": "2.7.10"
  }
 },
 "nbformat": 4,
 "nbformat_minor": 0
}
