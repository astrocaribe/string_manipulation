{
 "cells": [
  {
   "cell_type": "markdown",
   "metadata": {},
   "source": [
    "## String word-order reversal: Write a program using the language of your choice that reverses the order of words in a given phrase, i.e. given \"son I am able she said though you scare me watch said I” output “I said watch me scare you though said she able am I son”."
   ]
  },
  {
   "cell_type": "code",
   "execution_count": null,
   "metadata": {
    "collapsed": true
   },
   "outputs": [],
   "source": []
  },
  {
   "cell_type": "code",
   "execution_count": 13,
   "metadata": {
    "collapsed": false
   },
   "outputs": [
    {
     "name": "stdout",
     "output_type": "stream",
     "text": [
      "Input phrase:     son I am able she said though you scare me watch said I\n",
      "Reversed phrase:  I said watch me scare you though said she able am I son\n"
     ]
    },
    {
     "data": {
      "text/plain": [
       "undefined"
      ]
     },
     "execution_count": 13,
     "metadata": {},
     "output_type": "execute_result"
    }
   ],
   "source": [
    "// Store string phrase\n",
    "// Store string phrase\n",
    "phrase = \"son I am able she said though you scare me watch said I\";\n",
    "\n",
    "// Split phrase by spaces\n",
    "words = phrase.split(' ');\n",
    "\n",
    "// Reverse word order, and join resulting array into a string\n",
    "// phrase (reversed) with spaces inserted\n",
    "reversed_phrase = words.reverse().join(' ');\n",
    "\n",
    "console.info('Input phrase:    ', phrase);\n",
    "console.info('Reversed phrase: ', reversed_phrase);"
   ]
  },
  {
   "cell_type": "code",
   "execution_count": null,
   "metadata": {
    "collapsed": false
   },
   "outputs": [],
   "source": []
  },
  {
   "cell_type": "code",
   "execution_count": null,
   "metadata": {
    "collapsed": true
   },
   "outputs": [],
   "source": []
  },
  {
   "cell_type": "markdown",
   "metadata": {},
   "source": [
    "## Pig Latin translator: write a simple program using the language of your choice that given an English sentence will output a pig latin translation of that sentence."
   ]
  },
  {
   "cell_type": "code",
   "execution_count": 85,
   "metadata": {
    "collapsed": false
   },
   "outputs": [
    {
     "data": {
      "text/plain": [
       "undefined"
      ]
     },
     "execution_count": 85,
     "metadata": {},
     "output_type": "execute_result"
    }
   ],
   "source": [
    "function split_punctuation( word ) {\n",
    "//     var re                = /^[a-zA-Z]+$/;\n",
    "    var re                = /^[A-Za-z]$/g;\n",
    "    var unpunctuated_word = word.match(re);\n",
    "        \n",
    "    console.info(word.match(re));\n",
    "}\n",
    "\n",
    "function rule1( word ) {\n",
    "    root_word, punctuation = split_punctuation( word);\n",
    "}"
   ]
  },
  {
   "cell_type": "code",
   "execution_count": 86,
   "metadata": {
    "collapsed": false
   },
   "outputs": [
    {
     "name": "stdout",
     "output_type": "stream",
     "text": [
      "null\n",
      "undefined\n"
     ]
    },
    {
     "data": {
      "text/plain": [
       "undefined"
      ]
     },
     "execution_count": 86,
     "metadata": {},
     "output_type": "execute_result"
    }
   ],
   "source": [
    "input_sentence = \"fragile;\"\n",
    "console.info(split_punctuation(input_sentence));"
   ]
  },
  {
   "cell_type": "code",
   "execution_count": null,
   "metadata": {
    "collapsed": true
   },
   "outputs": [],
   "source": []
  },
  {
   "cell_type": "code",
   "execution_count": null,
   "metadata": {
    "collapsed": true
   },
   "outputs": [],
   "source": []
  },
  {
   "cell_type": "code",
   "execution_count": null,
   "metadata": {
    "collapsed": true
   },
   "outputs": [],
   "source": []
  }
 ],
 "metadata": {
  "kernelspec": {
   "display_name": "Javascript (Node.js)",
   "language": "javascript",
   "name": "javascript"
  },
  "language_info": {
   "file_extension": ".js",
   "mimetype": "application/javascript",
   "name": "javascript",
   "version": "5.6.0"
  }
 },
 "nbformat": 4,
 "nbformat_minor": 0
}
